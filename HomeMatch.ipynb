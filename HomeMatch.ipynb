{
 "cells": [
  {
   "cell_type": "markdown",
   "id": "e704708b",
   "metadata": {},
   "source": [
    "### Set API Key and Load LLM"
   ]
  },
  {
   "cell_type": "code",
   "execution_count": 5,
   "id": "6554fd4c",
   "metadata": {},
   "outputs": [],
   "source": [
    "import os\n",
    "os.environ[\"OPENAI_API_KEY\"] = \"voc-00000000000000000000000000000000abcd.12345678\"\n",
    "os.environ[\"OPENAI_API_BASE\"] = \"https://openai.vocareum.com/v1\"\n",
    "\n",
    "from langchain.llms import OpenAI"
   ]
  },
  {
   "cell_type": "markdown",
   "id": "5b75ffbe",
   "metadata": {},
   "source": [
    "### Import LangChain Modules"
   ]
  },
  {
   "cell_type": "code",
   "execution_count": 6,
   "id": "b95c359f",
   "metadata": {},
   "outputs": [],
   "source": [
    "import os\n",
    "from langchain.llms import OpenAI\n",
    "from langchain.vectorstores import Chroma\n",
    "from langchain.embeddings import OpenAIEmbeddings\n",
    "from langchain.schema import Document\n",
    "from langchain.chains import LLMChain\n",
    "from langchain.prompts import PromptTemplate\n"
   ]
  },
  {
   "cell_type": "markdown",
   "id": "044e5977",
   "metadata": {},
   "source": [
    "### Define Listing Generator using Chat Model"
   ]
  },
  {
   "cell_type": "code",
   "execution_count": 9,
   "id": "ede50f22",
   "metadata": {},
   "outputs": [
    {
     "name": "stdout",
     "output_type": "stream",
     "text": [
      "Neighborhood: Silver Lake, Los Angeles, CA\n",
      "Price: $1,200,000\n",
      "Bedrooms: 4\n",
      "Bathrooms: 3\n",
      "House Size: 2,500 sqft\n",
      "\n",
      "Description: Welcome to this stunning modern home in the highly desirable Silver Lake neighborhood. This 4 bedroom, 3 bathroom home features an open concept floor plan with high ceilings, hardwood floors, and plenty of natural light. The gourmet kitchen is a chef's dream with stainless steel appliances, quartz countertops, and a large island. The spacious master suite boasts a walk-in closet and a luxurious en-suite bathroom with a soaking tub and separate shower. Enjoy the California sunshine in the private backyard with a patio and lush landscaping.\n",
      "\n",
      "Neighborhood Description: Silver Lake is known for its trendy boutiques, eclectic cafes, and vibrant arts scene. Residents enjoy easy access to the Silver Lake Reservoir, where you can go for a jog or enjoy a leisurely walk with stunning views of the city. The neighborhood is also home to some of the best restaurants in Los Angeles, offering a diverse array of cuisines to suit every palate. With its central location and close proximity to downtown LA, Silver Lake is the perfect place to call home for those looking for a mix of urban living and natural beauty.\n"
     ]
    }
   ],
   "source": [
    "from langchain.chat_models import ChatOpenAI\n",
    "from langchain.schema import HumanMessage\n",
    "\n",
    "chat_llm = ChatOpenAI(temperature=0.7)\n",
    "\n",
    "def generate_listing_chat():\n",
    "    prompt = \"Generate a realistic real estate listing including: neighborhood, price, bedrooms, bathrooms, house size, description, and neighborhood description.\"\n",
    "    try:\n",
    "        response = chat_llm([HumanMessage(content=prompt)])\n",
    "        return response.content\n",
    "    except Exception as e:\n",
    "        print(\"Error occurred:\", e)\n",
    "        return None\n",
    "\n",
    "# Test with one listing\n",
    "print(generate_listing_chat())\n"
   ]
  },
  {
   "cell_type": "markdown",
   "id": "3b78e8d7",
   "metadata": {},
   "source": [
    "### Generate 10 Synthetic Real Estate Listings"
   ]
  },
  {
   "cell_type": "code",
   "execution_count": 10,
   "id": "59c332dd",
   "metadata": {},
   "outputs": [
    {
     "name": "stdout",
     "output_type": "stream",
     "text": [
      "Generating listing 1...\n",
      "Generating listing 2...\n",
      "Generating listing 3...\n",
      "Generating listing 4...\n",
      "Generating listing 5...\n",
      "Generating listing 6...\n",
      "Generating listing 7...\n",
      "Generating listing 8...\n",
      "Generating listing 9...\n",
      "Generating listing 10...\n",
      "\n",
      "Sample Listing:\n",
      "\n",
      "Welcome to this charming 3-bedroom, 2-bathroom home located in the desirable Oak Park neighborhood. Priced at $350,000, this 1,800 square foot house features a spacious living room, updated kitchen with stainless steel appliances, and a cozy backyard perfect for entertaining.\n",
      "\n",
      "The Oak Park neighborhood is known for its tree-lined streets, friendly community atmosphere, and proximity to parks, schools, and shopping centers. With easy access to public transportation and major highways, this location is ideal for commuters and families alike.\n",
      "\n",
      "Don't miss out on the opportunity to own this lovely home in Oak Park - schedule a showing today!\n"
     ]
    }
   ],
   "source": [
    "listings = []\n",
    "\n",
    "for i in range(10):\n",
    "    print(f\"Generating listing {i+1}...\")\n",
    "    listing = generate_listing_chat()\n",
    "    if listing:\n",
    "        listings.append(listing)\n",
    "\n",
    "# Print a sample listing\n",
    "print(\"\\nSample Listing:\\n\")\n",
    "print(listings[0])\n"
   ]
  },
  {
   "cell_type": "markdown",
   "id": "396e24f4",
   "metadata": {},
   "source": [
    "### Save Listings to File"
   ]
  },
  {
   "cell_type": "code",
   "execution_count": 11,
   "id": "078cf17f",
   "metadata": {},
   "outputs": [],
   "source": [
    "# Save to file for Step 8 submission\n",
    "with open(\"listings.txt\", \"w\") as f:\n",
    "    for listing in listings:\n",
    "        f.write(listing + \"\\n\\n\")\n"
   ]
  },
  {
   "cell_type": "code",
   "execution_count": 12,
   "id": "1558ff66",
   "metadata": {},
   "outputs": [],
   "source": [
    "from langchain.vectorstores import Chroma\n",
    "from langchain.embeddings import OpenAIEmbeddings\n",
    "from langchain.schema import Document\n"
   ]
  },
  {
   "cell_type": "markdown",
   "id": "0e65bf3e",
   "metadata": {},
   "source": [
    "### Initialize Embedding and ChromaDB"
   ]
  },
  {
   "cell_type": "code",
   "execution_count": 13,
   "id": "9123c309",
   "metadata": {},
   "outputs": [
    {
     "name": "stdout",
     "output_type": "stream",
     "text": [
      "✅ All listings added to ChromaDB successfully!\n"
     ]
    }
   ],
   "source": [
    "# Initialize embedding function\n",
    "embedding_fn = OpenAIEmbeddings()\n",
    "\n",
    "# Initialize vector store\n",
    "vectorstore = Chroma(collection_name=\"real_estate_listings\", embedding_function=embedding_fn)\n",
    "\n",
    "# Convert listings to documents\n",
    "docs = [Document(page_content=listing) for listing in listings]\n",
    "\n",
    "# Add documents to vector database\n",
    "vectorstore.add_documents(docs)\n",
    "\n",
    "print(\"✅ All listings added to ChromaDB successfully!\")\n"
   ]
  },
  {
   "cell_type": "markdown",
   "id": "e7a45409",
   "metadata": {},
   "source": [
    "### Perform a Test Semantic Search"
   ]
  },
  {
   "cell_type": "code",
   "execution_count": 14,
   "id": "1f7bfb21",
   "metadata": {},
   "outputs": [
    {
     "name": "stdout",
     "output_type": "stream",
     "text": [
      "\n",
      "Result 1:\n",
      "Welcome to this charming 3-bedroom, 2-bathroom home located in the sought-after neighborhood of Willow Creek. Priced at $350,000, this spacious 1,800 square foot house features a cozy living room with a fireplace, a fully renovated kitchen with stainless steel appliances, and a large backyard perfect for entertaining.\n",
      "\n",
      "The master bedroom boasts a walk-in closet and en-suite bathroom, while the two additional bedrooms are perfect for guests or a home office. The neighborhood of Willow Creek is known for its tree-lined streets, friendly neighbors, and top-rated schools. With easy access to shopping, dining, and parks, this home is perfect for families or anyone looking for a peaceful retreat in a vibrant community. Don't miss out on the opportunity to make this house your forever home!\n",
      "\n",
      "\n",
      "Result 2:\n",
      "Welcome to this charming 3-bedroom, 2-bathroom home located in the coveted neighborhood of Willow Creek. Priced at $350,000, this 1,800 square foot home offers a spacious layout with a large living room, updated kitchen, and a cozy fireplace. The master bedroom features an ensuite bathroom and walk-in closet.\n",
      "\n",
      "The neighborhood of Willow Creek is known for its tree-lined streets, friendly neighbors, and top-rated schools. Just minutes away from shopping centers, restaurants, and parks, this home is perfect for families looking for a quiet and safe community to call home.\n",
      "\n",
      "Don't miss out on the opportunity to own this beautiful property in Willow Creek. Contact us today to schedule a showing!\n",
      "\n",
      "\n",
      "Result 3:\n",
      "Welcome to this charming 3-bedroom, 2-bathroom home located in the desirable Oak Park neighborhood. Priced at $350,000, this 1,800 square foot house features a spacious living room, updated kitchen with stainless steel appliances, and a cozy backyard perfect for entertaining.\n",
      "\n",
      "The Oak Park neighborhood is known for its tree-lined streets, friendly community atmosphere, and proximity to parks, schools, and shopping centers. With easy access to public transportation and major highways, this location is ideal for commuters and families alike.\n",
      "\n",
      "Don't miss out on the opportunity to own this lovely home in Oak Park - schedule a showing today!\n",
      "\n"
     ]
    }
   ],
   "source": [
    "query = \"I want a 3-bedroom eco-friendly home with a garden in a quiet neighborhood.\"\n",
    "results = vectorstore.similarity_search(query, k=3)\n",
    "\n",
    "for i, res in enumerate(results):\n",
    "    print(f\"\\nResult {i+1}:\\n{res.page_content}\\n\")\n"
   ]
  },
  {
   "cell_type": "markdown",
   "id": "3dd76ef4",
   "metadata": {},
   "source": [
    "### Collect Buyer Preferences"
   ]
  },
  {
   "cell_type": "code",
   "execution_count": 15,
   "id": "979373f1",
   "metadata": {},
   "outputs": [
    {
     "name": "stdout",
     "output_type": "stream",
     "text": [
      "Buyer Preferences:\n",
      "\n",
      "How big do you want your house to be? A comfortable three-bedroom house with a spacious kitchen and a cozy living room.\n",
      "What are 3 most important things for you in choosing this property? A quiet neighborhood, good local schools, and convenient shopping options.\n",
      "Which amenities would you like? A backyard for gardening, a two-car garage, and a modern, energy-efficient heating system.\n",
      "Which transportation options are important to you? Easy access to a reliable bus line, proximity to a major highway, and bike-friendly roads.\n",
      "How urban do you want your neighborhood to be? A balance between suburban tranquility and access to urban amenities like restaurants and theaters.\n"
     ]
    }
   ],
   "source": [
    "# Define questions and hard-coded answers\n",
    "questions = [   \n",
    "    \"How big do you want your house to be?\", \n",
    "    \"What are 3 most important things for you in choosing this property?\", \n",
    "    \"Which amenities would you like?\", \n",
    "    \"Which transportation options are important to you?\",\n",
    "    \"How urban do you want your neighborhood to be?\"\n",
    "]\n",
    "\n",
    "answers = [\n",
    "    \"A comfortable three-bedroom house with a spacious kitchen and a cozy living room.\",\n",
    "    \"A quiet neighborhood, good local schools, and convenient shopping options.\",\n",
    "    \"A backyard for gardening, a two-car garage, and a modern, energy-efficient heating system.\",\n",
    "    \"Easy access to a reliable bus line, proximity to a major highway, and bike-friendly roads.\",\n",
    "    \"A balance between suburban tranquility and access to urban amenities like restaurants and theaters.\"\n",
    "]\n",
    "\n",
    "# Combine into a full preference text\n",
    "buyer_preferences = \"\\n\".join([f\"{q} {a}\" for q, a in zip(questions, answers)])\n",
    "\n",
    "print(\"Buyer Preferences:\\n\")\n",
    "print(buyer_preferences)\n"
   ]
  },
  {
   "cell_type": "markdown",
   "id": "429963e0",
   "metadata": {},
   "source": [
    "### Semantic Search Based on Preferences"
   ]
  },
  {
   "cell_type": "code",
   "execution_count": 16,
   "id": "1aa12e52",
   "metadata": {},
   "outputs": [
    {
     "name": "stdout",
     "output_type": "stream",
     "text": [
      "\n",
      "Matched Listing 1:\n",
      "Welcome to this charming 3-bedroom, 2-bathroom home located in the desirable Oak Park neighborhood. Priced at $350,000, this 1,800 square foot house features a spacious living room, updated kitchen with stainless steel appliances, and a cozy backyard perfect for entertaining.\n",
      "\n",
      "The Oak Park neighborhood is known for its tree-lined streets, friendly community atmosphere, and proximity to parks, schools, and shopping centers. With easy access to public transportation and major highways, this location is ideal for commuters and families alike.\n",
      "\n",
      "Don't miss out on the opportunity to own this lovely home in Oak Park - schedule a showing today!\n",
      "\n",
      "Matched Listing 2:\n",
      "Welcome to this charming 3-bedroom, 2-bathroom home located in the sought-after neighborhood of Willow Creek. Priced at $350,000, this spacious 1,800 square foot house features a cozy living room with a fireplace, a fully renovated kitchen with stainless steel appliances, and a large backyard perfect for entertaining.\n",
      "\n",
      "The master bedroom boasts a walk-in closet and en-suite bathroom, while the two additional bedrooms are perfect for guests or a home office. The neighborhood of Willow Creek is known for its tree-lined streets, friendly neighbors, and top-rated schools. With easy access to shopping, dining, and parks, this home is perfect for families or anyone looking for a peaceful retreat in a vibrant community. Don't miss out on the opportunity to make this house your forever home!\n",
      "\n",
      "Matched Listing 3:\n",
      "Neighborhood: Brookside Heights, a charming, family-friendly community with tree-lined streets and close proximity to parks, schools, and shopping.\n",
      "\n",
      "Price: $350,000\n",
      "\n",
      "Bedrooms: 3\n",
      "\n",
      "Bathrooms: 2\n",
      "\n",
      "House size: 1,800 sq ft\n",
      "\n",
      "Description: This beautiful 3 bedroom, 2 bathroom home in Brookside Heights is perfect for families or those looking to downsize. The open concept layout features a spacious living room with a cozy fireplace, a modern kitchen with stainless steel appliances, and a dining area that opens up to a private backyard. The master bedroom has an ensuite bathroom and walk-in closet, while the other two bedrooms are perfect for kids or guests. The backyard is perfect for entertaining or relaxing, with a patio and plenty of space for gardening. \n",
      "\n",
      "Neighborhood description: Brookside Heights is a sought-after neighborhood known for its tight-knit community, excellent schools, and convenient location. Residents enjoy easy access to shopping centers, restaurants, and recreational activities, as well as quick commutes to downtown and major highways. The neighborhood also features several parks, playgrounds, and walking trails, making it a great place for families and outdoor enthusiasts.\n"
     ]
    }
   ],
   "source": [
    "# Perform semantic search\n",
    "matched_listings = vectorstore.similarity_search(buyer_preferences, k=3)\n",
    "\n",
    "# Preview results\n",
    "for i, match in enumerate(matched_listings):\n",
    "    print(f\"\\nMatched Listing {i+1}:\\n{match.page_content}\")\n"
   ]
  },
  {
   "cell_type": "markdown",
   "id": "bc491741",
   "metadata": {},
   "source": [
    "### Define LLM-based Personalization"
   ]
  },
  {
   "cell_type": "code",
   "execution_count": 17,
   "id": "0bdf57f4",
   "metadata": {},
   "outputs": [],
   "source": [
    "def personalize_listing(original_description, preferences):\n",
    "    prompt = f\"\"\"\n",
    "You are a helpful real estate agent.\n",
    "\n",
    "Given the following property listing:\n",
    "{original_description}\n",
    "\n",
    "And the buyer preferences:\n",
    "{preferences}\n",
    "\n",
    "Rewrite the listing to highlight the features that match the preferences.\n",
    "Keep all factual details unchanged, just emphasize the relevant parts in an engaging way.\n",
    "\"\"\"\n",
    "    response = chat_llm([HumanMessage(content=prompt)])\n",
    "    return response.content\n"
   ]
  },
  {
   "cell_type": "markdown",
   "id": "87286387",
   "metadata": {},
   "source": [
    "### Generate Personalized Listings"
   ]
  },
  {
   "cell_type": "code",
   "execution_count": 18,
   "id": "1e3c875d",
   "metadata": {},
   "outputs": [
    {
     "name": "stdout",
     "output_type": "stream",
     "text": [
      "\n",
      "🎯 Personalized Listing 1:\n",
      "\n",
      "Welcome to this charming 3-bedroom, 2-bathroom home nestled in the serene Oak Park neighborhood. Priced at $350,000, this 1,800 square foot house boasts a spacious kitchen with stainless steel appliances, perfect for cooking up delicious meals. The cozy living room is ideal for relaxing with loved ones after a long day.\n",
      "\n",
      "Oak Park is renowned for its peaceful surroundings, top-notch schools, and convenient shopping options just a stone's throw away. Enjoy the tranquility of tree-lined streets while still having easy access to public transportation and major highways for seamless commuting.\n",
      "\n",
      "Step outside to the inviting backyard, perfect for gardening enthusiasts, and take advantage of the two-car garage for convenient parking. Stay warm and energy-efficient with the modern heating system in place.\n",
      "\n",
      "Experience the perfect blend of suburban charm and urban convenience in Oak Park. Don't miss out on this opportunity - schedule a showing today and make this lovely home yours!\n",
      "\n",
      "🎯 Personalized Listing 2:\n",
      "\n",
      "Welcome to this charming 3-bedroom, 2-bathroom home located in the sought-after neighborhood of Willow Creek. Priced at $350,000, this spacious 1,800 square foot house is perfect for those seeking a comfortable living space with a spacious kitchen and cozy living room.\n",
      "\n",
      "The neighborhood of Willow Creek is known for its tranquility, friendly neighbors, and top-rated schools, making it an ideal choice for those looking for a quiet community with good local schools. With easy access to shopping, dining, and parks, this home offers the convenience of nearby shopping options.\n",
      "\n",
      "The large backyard is perfect for gardening enthusiasts, while the two-car garage provides ample space for parking. The modern, energy-efficient heating system ensures comfort and savings on utility bills.\n",
      "\n",
      "For those concerned about transportation options, this home offers easy access to a reliable bus line, proximity to a major highway, and bike-friendly roads. The balance between suburban tranquility and access to urban amenities like restaurants and theaters makes this property a perfect choice for those looking for the best of both worlds.\n",
      "\n",
      "Don't miss out on the opportunity to make this house your forever home in the vibrant community of Willow Creek!\n",
      "\n",
      "🎯 Personalized Listing 3:\n",
      "\n",
      "Welcome to your dream home in the charming Brookside Heights neighborhood! This cozy 3 bedroom, 2 bathroom house is the perfect size for you and your family, with a spacious kitchen and a comfortable living room to relax in.\n",
      "\n",
      "Located in a quiet and family-friendly community, this home is surrounded by tree-lined streets and is just a short distance from excellent local schools and convenient shopping options. You'll love the peaceful neighborhood vibe and the easy access to all the amenities you need.\n",
      "\n",
      "Step inside to find a modern kitchen with stainless steel appliances, perfect for cooking family meals. The open concept layout flows into a spacious living room with a cozy fireplace, ideal for gathering with loved ones. The master bedroom features an ensuite bathroom and walk-in closet, while the other two bedrooms are great for kids or guests.\n",
      "\n",
      "Outside, the private backyard is a gardener's paradise, with plenty of space for planting and a patio for outdoor entertaining. Plus, the two-car garage provides convenient parking and storage space.\n",
      "\n",
      "With easy access to a reliable bus line, proximity to a major highway, and bike-friendly roads, transportation options are a breeze. And the balance between suburban tranquility and urban amenities means you can enjoy the best of both worlds, from quiet evenings at home to exciting nights out at nearby restaurants and theaters.\n",
      "\n",
      "Don't miss out on this opportunity to own a home in the sought-after Brookside Heights neighborhood - schedule a viewing today!\n"
     ]
    }
   ],
   "source": [
    "for i, match in enumerate(matched_listings):\n",
    "    print(f\"\\n🎯 Personalized Listing {i+1}:\\n\")\n",
    "    print(personalize_listing(match.page_content, buyer_preferences))\n"
   ]
  },
  {
   "cell_type": "markdown",
   "id": "804b3cf5",
   "metadata": {},
   "source": [
    "### Save Listings and Results"
   ]
  },
  {
   "cell_type": "code",
   "execution_count": 19,
   "id": "5b9b24ad",
   "metadata": {},
   "outputs": [],
   "source": [
    "with open(\"listings.txt\", \"w\") as f:\n",
    "    for listing in listings:\n",
    "        f.write(listing.strip() + \"\\n\\n\")\n"
   ]
  },
  {
   "cell_type": "markdown",
   "id": "9ec53673",
   "metadata": {},
   "source": [
    "### Save Example Output for Submission"
   ]
  },
  {
   "cell_type": "code",
   "execution_count": 20,
   "id": "94ab03e2",
   "metadata": {},
   "outputs": [],
   "source": [
    "# Save example results to example_output.txt\n",
    "with open(\"example_output.txt\", \"w\") as f:\n",
    "    f.write(\"=== BUYER PREFERENCES ===\\n\")\n",
    "    f.write(buyer_preferences + \"\\n\\n\")\n",
    "    \n",
    "    f.write(\"=== MATCHED LISTING ===\\n\")\n",
    "    f.write(matched_listings[0].page_content.strip() + \"\\n\\n\")\n",
    "    \n",
    "    personalized = personalize_listing(matched_listings[0].page_content, buyer_preferences)\n",
    "    f.write(\"=== PERSONALIZED LISTING ===\\n\")\n",
    "    f.write(personalized.strip())\n"
   ]
  },
  {
   "cell_type": "code",
   "execution_count": null,
   "id": "74e78b69",
   "metadata": {},
   "outputs": [],
   "source": []
  }
 ],
 "metadata": {
  "kernelspec": {
   "display_name": "Python 3 (ipykernel)",
   "language": "python",
   "name": "python3"
  },
  "language_info": {
   "codemirror_mode": {
    "name": "ipython",
    "version": 3
   },
   "file_extension": ".py",
   "mimetype": "text/x-python",
   "name": "python",
   "nbconvert_exporter": "python",
   "pygments_lexer": "ipython3",
   "version": "3.11.7"
  }
 },
 "nbformat": 4,
 "nbformat_minor": 5
}
